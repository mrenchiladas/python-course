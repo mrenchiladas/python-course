{
  "nbformat": 4,
  "nbformat_minor": 0,
  "metadata": {
    "colab": {
      "name": "Redes neuronales profundas",
      "provenance": [],
      "collapsed_sections": [],
      "toc_visible": true,
      "include_colab_link": true
    },
    "kernelspec": {
      "name": "python3",
      "display_name": "Python 3"
    },
    "accelerator": "GPU"
  },
  "cells": [
    {
      "cell_type": "markdown",
      "metadata": {
        "id": "view-in-github",
        "colab_type": "text"
      },
      "source": [
        "<a href=\"https://colab.research.google.com/github/mrenchiladas/python-course/blob/main/Redes_neuronales_profundas.ipynb\" target=\"_parent\"><img src=\"https://colab.research.google.com/assets/colab-badge.svg\" alt=\"Open In Colab\"/></a>"
      ]
    },
    {
      "cell_type": "markdown",
      "metadata": {
        "id": "R6jO_1gISKxk"
      },
      "source": [
        "# Redes neuronales profundas\n",
        "\n",
        "> **Rodolfo Ferro** <br>\n",
        "> Google Dev Expert en ML, 2020.\n",
        ">\n",
        "> _Redes:_\n",
        "> - GitHub - [RodolfoFerro](https://github.com/RodolfoFerro)\n",
        "> - Twitter - [@FerroRodolfo](https://twitter.com/FerroRodolfo)\n",
        "> - Instagram - [@rodo_ferro](https://instagram.com/rodo_ferro)\n",
        "\n",
        "## Contenidos\n",
        "\n",
        "#### **Sección IV**\n",
        "1. **Código:** El dataset de modas\n",
        "2. **Código:** Preparación de datos\n",
        "3. **Código:** Creación del modelo\n",
        "4. **Código:** Entrenamiento del modelo\n",
        "5. **Código:** Evaluación del modelo\n",
        "6. **Código:** Predicción\n"
      ]
    },
    {
      "cell_type": "markdown",
      "metadata": {
        "id": "xNVG2PnSEtQN"
      },
      "source": [
        "## **Sección IV**"
      ]
    },
    {
      "cell_type": "markdown",
      "metadata": {
        "id": "1Z7JrTygMDSx"
      },
      "source": [
        "### El dataset de modas\n",
        "\n",
        "Comencemos importando TensorFlow."
      ]
    },
    {
      "cell_type": "code",
      "metadata": {
        "id": "LPB4nBh8MFDm",
        "colab": {
          "base_uri": "https://localhost:8080/"
        },
        "outputId": "5fa8ceab-355d-4046-cd21-0c25db37bb96"
      },
      "source": [
        "import tensorflow as tf\n",
        "print(tf.__version__)"
      ],
      "execution_count": null,
      "outputs": [
        {
          "output_type": "stream",
          "text": [
            "2.5.0\n"
          ],
          "name": "stdout"
        }
      ]
    },
    {
      "cell_type": "markdown",
      "metadata": {
        "id": "p65n1ePSMYm8"
      },
      "source": [
        "Los datos de Fashion MNIST están disponibles directamente en la API de conjuntos de datos de `tf.keras`. Los cargas así:"
      ]
    },
    {
      "cell_type": "code",
      "metadata": {
        "id": "Wgked3UaMJW4"
      },
      "source": [
        "fashion_mnist = tf.keras.datasets.fashion_mnist"
      ],
      "execution_count": null,
      "outputs": []
    },
    {
      "cell_type": "markdown",
      "metadata": {
        "id": "UsEGBNwrMSac"
      },
      "source": [
        "Llamar a `load_data` en este objeto nos dará dos conjuntos con los valores de entrenamiento y prueba para los gráficos que contienen las prendas y sus etiquetas."
      ]
    },
    {
      "cell_type": "code",
      "metadata": {
        "id": "1XdP6qF1MLR6",
        "colab": {
          "base_uri": "https://localhost:8080/"
        },
        "outputId": "b80eed3d-826b-4b5d-82cb-27a859dc0d9f"
      },
      "source": [
        "(training_images, training_labels), (test_images, test_labels) = fashion_mnist.load_data()"
      ],
      "execution_count": null,
      "outputs": [
        {
          "output_type": "stream",
          "text": [
            "Downloading data from https://storage.googleapis.com/tensorflow/tf-keras-datasets/train-labels-idx1-ubyte.gz\n",
            "32768/29515 [=================================] - 0s 0us/step\n",
            "Downloading data from https://storage.googleapis.com/tensorflow/tf-keras-datasets/train-images-idx3-ubyte.gz\n",
            "26427392/26421880 [==============================] - 1s 0us/step\n",
            "Downloading data from https://storage.googleapis.com/tensorflow/tf-keras-datasets/t10k-labels-idx1-ubyte.gz\n",
            "8192/5148 [===============================================] - 0s 0us/step\n",
            "Downloading data from https://storage.googleapis.com/tensorflow/tf-keras-datasets/t10k-images-idx3-ubyte.gz\n",
            "4423680/4422102 [==============================] - 0s 0us/step\n"
          ],
          "name": "stdout"
        }
      ]
    },
    {
      "cell_type": "markdown",
      "metadata": {
        "id": "6c0eSrlvMs6H"
      },
      "source": [
        "¿Cómo se ven estos valores?\n",
        "\n",
        "Imprimamos una imagen de entrenamiento y una etiqueta de entrenamiento para ver."
      ]
    },
    {
      "cell_type": "code",
      "metadata": {
        "id": "3CdTltfNM0qF",
        "colab": {
          "base_uri": "https://localhost:8080/",
          "height": 771
        },
        "outputId": "de9afc15-a8e0-4477-b382-b45c6b1f8a01"
      },
      "source": [
        "import numpy as np\n",
        "import matplotlib.pyplot as plt\n",
        "np.set_printoptions(linewidth=200)\n",
        "\n",
        "\n",
        "# Set index of image to be seen\n",
        "img_index = 5999 # 6000 -1\n",
        "\n",
        "# Plot image\n",
        "plt.imshow(training_images[img_index], cmap='gray')\n",
        "plt.axis(False)\n",
        "\n",
        "print(\"Label:\", training_labels[img_index])\n",
        "print(\"Matrix:\", training_images[img_index])"
      ],
      "execution_count": null,
      "outputs": [
        {
          "output_type": "stream",
          "text": [
            "Label: 0\n",
            "Matrix: [[  0   0   0   0   0   0   0   0   0   0 120  54   0   0   0   0  13 124   0   0   0   0   2   0   0   0   0   0]\n",
            " [  0   0   0   0   0   0   0  64 173 207 218 206 232 184 168 202 205 218 202 126  12   0   0   1   0   0   0   0]\n",
            " [  0   0   0   0   0  56 199 223 222 207 205 211 223 227 231 230 214 203 209 220 213 164   0   0   2   0   0   0]\n",
            " [  0   0   0   0   0 191 219 200 200 206 206 205 206 206 203 202 201 202 201 195 198 222 149   0   0   0   0   0]\n",
            " [  0   0   0   0  72 224 201 205 208 202 204 204 205 205 208 205 192 188 203 202 200 189 198  23   0   0   0   0]\n",
            " [  0   0   0   0 160 221 211 200 204 203 204 203 201 202 201 203 201 185 203 203 188 194 207 126   0   0   0   0]\n",
            " [  0   0   0   0 227 212 224 205 201 204 203 202 202 201 201 200 201 195 198 191 182 199 202 202   0   0   0   0]\n",
            " [  0   0   0  20 208 205 224 219 201 200 202 202 201 201 199 198 199 199 197 183 195 210 191 189  11   0   0   0]\n",
            " [  0   0   0 138 223 201 218 229 216 202 202 200 200 197 197 199 197 194 186 178 214 205 180 193  84   0   0   0]\n",
            " [  0   0   0 104 181 212 234 254 219 208 204 201 201 199 199 199 197 197 192 191 250 220 199 197 141   0   0   0]\n",
            " [  0   0   0   0   0  40 131 193 219 207 205 202 202 199 199 199 193 197 188 200 174 111  56  15   0   0   0   0]\n",
            " [  0   0   0   0   0   0   0   2 248 208 202 199 200 197 197 200 194 187 192 186   0   0   0   0   0   0   0   0]\n",
            " [  0   0   0   0   0   2   0   0 228 217 199 200 201 202 198 198 203 188 200 162   0   0   2   3   1   0   0   0]\n",
            " [  0   0   0   0   0   0   0   0 200 218 203 200 198 201 199 197 203 188 203 136   0   0   0   0   0   0   0   0]\n",
            " [  0   0   0   0   0   0   0   0 181 220 202 200 200 201 200 195 200 191 202  85   0   1   0   0   0   0   0   0]\n",
            " [  0   0   0   0   0   0   0   0 168 220 200 200 201 201 199 198 195 193 198  82   0   1   0   0   0   0   0   0]\n",
            " [  0   0   0   0   0   0   0   0 157 220 199 200 199 199 195 200 191 194 199 106   0   7   0   0   0   0   0   0]\n",
            " [  0   0   0   0   0   0   0   0 165 217 199 200 200 199 194 199 192 193 203 109   0   1   0   0   0   0   0   0]\n",
            " [  0   0   0   0   0   1   0   0 175 210 200 200 200 200 192 198 195 188 208 125   0   0   0   0   0   0   0   0]\n",
            " [  0   0   0   0   0   2   0   0 197 205 201 199 197 194 192 198 195 186 205 134   0   0   0   0   0   0   0   0]\n",
            " [  0   0   0   0   0   4   0  16 206 201 201 199 197 194 191 199 197 191 199 160   0   0   0   0   0   0   0   0]\n",
            " [  0   0   0   0   0   5   0  31 209 195 200 198 197 194 184 194 193 195 192 167   0   0   2   0   0   0   0   0]\n",
            " [  0   0   0   0   0   5   0  32 207 200 197 197 197 197 183 197 195 195 190 184   5   0   3   0   0   0   0   0]\n",
            " [  0   0   0   0   0   7   0  68 210 197 197 194 198 199 187 199 199 195 190 190  20   0   4   0   0   0   0   0]\n",
            " [  0   0   0   0   0   7   0  89 210 194 199 195 199 203 195 200 200 197 192 190  22   0   4   0   0   0   0   0]\n",
            " [  0   0   0   0   0   7   0 116 207 193 195 191 195 194 188 190 197 197 190 192  47   0   5   0   0   0   0   0]\n",
            " [  0   0   0   0   0   5   0 172 225 207 207 225 225 225 224 225 229 211 206 210  88   0   6   0   0   0   0   0]\n",
            " [  0   0   0   0   0   2   0  48  94 103 119 123 132 128 122 119 114  97  88 102  27   0   4   0   0   0   0   0]]\n"
          ],
          "name": "stdout"
        },
        {
          "output_type": "display_data",
          "data": {
            "image/png": "[encoded data removed]",
            "text/plain": [
              "<Figure size 432x288 with 1 Axes>"
            ]
          },
          "metadata": {
            "tags": [],
            "needs_background": "light"
          }
        }
      ]
    },
    {
      "cell_type": "markdown",
      "metadata": {
        "id": "CxfNdPU3NQge"
      },
      "source": [
        "### Preparación de los datos\n",
        "\n",
        "Notarás que todos los valores están entre 0 y 255. Si estamos entrenando una red neuronal, por varias razones es más fácil si transformamos los valores para tratar todos con valores entre 0 y 1. Este proceso se llama **normalización**."
      ]
    },
    {
      "cell_type": "code",
      "metadata": {
        "id": "vWoPQWCGNdnB"
      },
      "source": [
        "training_images  = training_images / 255.0\n",
        "test_images = test_images / 255.0"
      ],
      "execution_count": null,
      "outputs": []
    },
    {
      "cell_type": "code",
      "metadata": {
        "colab": {
          "base_uri": "https://localhost:8080/",
          "height": 1000
        },
        "id": "32Dx5PzgJ3gK",
        "outputId": "6ee1bf82-4e8a-4b19-f7f5-78afffb52346"
      },
      "source": [
        "import numpy as np\n",
        "import matplotlib.pyplot as plt\n",
        "np.set_printoptions(linewidth=200)\n",
        "\n",
        "\n",
        "# Set index of image to be seen\n",
        "img_index = 3000 # 6000 -1\n",
        "\n",
        "# Plot image\n",
        "plt.imshow(training_images[img_index], cmap='gray')\n",
        "plt.axis(False)\n",
        "\n",
        "print(\"Label:\", training_labels[img_index])\n",
        "print(\"Matrix:\", training_images[img_index])"
      ],
      "execution_count": null,
      "outputs": [
        {
          "output_type": "stream",
          "text": [
            "Label: 6\n",
            "Matrix: [[0.         0.         0.         0.         0.         0.         0.         0.         0.00392157 0.00392157 0.         0.         0.47058824 0.51372549 0.35686275 0.57647059 0.11764706\n",
            "  0.         0.         0.00392157 0.00392157 0.         0.         0.         0.         0.         0.         0.        ]\n",
            " [0.         0.         0.         0.         0.         0.         0.00392157 0.01176471 0.         0.         0.         0.         0.98431373 0.78039216 0.6745098  0.76470588 0.59607843\n",
            "  0.         0.         0.         0.         0.01176471 0.00392157 0.         0.         0.         0.         0.        ]\n",
            " [0.         0.         0.         0.         0.         0.         0.         0.         0.         0.16862745 0.48627451 0.75686275 0.65098039 0.9372549  1.         0.84705882 0.6745098\n",
            "  0.89411765 0.49411765 0.23921569 0.         0.         0.         0.         0.         0.         0.         0.        ]\n",
            " [0.         0.         0.         0.         0.         0.         0.         0.37647059 0.65490196 0.60784314 0.62352941 0.67058824 0.69803922 0.82745098 0.84313725 0.82352941 0.76862745\n",
            "  0.74117647 0.61960784 0.64313725 0.62352941 0.42352941 0.         0.         0.         0.         0.         0.        ]\n",
            " [0.         0.         0.         0.         0.         0.         0.3254902  0.61568627 0.51372549 0.45882353 0.47058824 0.58039216 0.58039216 0.56862745 0.69803922 0.62352941 0.68235294\n",
            "  0.62745098 0.48235294 0.51764706 0.55686275 0.6745098  0.14901961 0.         0.         0.         0.         0.        ]\n",
            " [0.         0.         0.         0.         0.         0.         0.62352941 0.50196078 0.4627451  0.47058824 0.47843137 0.43921569 0.36470588 0.48627451 0.63137255 0.42745098 0.50196078\n",
            "  0.50196078 0.50588235 0.57254902 0.54117647 0.65490196 0.47843137 0.         0.         0.         0.         0.        ]\n",
            " [0.         0.         0.         0.         0.         0.         0.67058824 0.52941176 0.47058824 0.44705882 0.4627451  0.46666667 0.41960784 0.49019608 0.48235294 0.45882353 0.48627451\n",
            "  0.48627451 0.46666667 0.56862745 0.57647059 0.65098039 0.58039216 0.         0.         0.         0.         0.        ]\n",
            " [0.         0.         0.         0.         0.         0.01568627 0.67058824 0.54117647 0.49411765 0.47058824 0.45882353 0.4627451  0.4        0.47843137 0.56862745 0.43529412 0.47058824\n",
            "  0.47843137 0.47058824 0.59607843 0.60392157 0.60784314 0.66666667 0.         0.         0.         0.         0.        ]\n",
            " [0.         0.         0.         0.         0.         0.12156863 0.66666667 0.50588235 0.54117647 0.49019608 0.44313725 0.41568627 0.40392157 0.4627451  0.5372549  0.42352941 0.52941176\n",
            "  0.50980392 0.61960784 0.71372549 0.54117647 0.56078431 0.72941176 0.         0.         0.         0.         0.        ]\n",
            " [0.         0.         0.         0.         0.         0.22745098 0.63921569 0.44705882 0.5372549  0.56078431 0.46666667 0.40392157 0.39215686 0.42745098 0.4627451  0.42745098 0.50588235\n",
            "  0.5254902  0.6745098  0.70980392 0.51372549 0.53333333 0.74509804 0.         0.         0.         0.         0.        ]\n",
            " [0.         0.         0.         0.         0.         0.29803922 0.62745098 0.44313725 0.55294118 0.58039216 0.50196078 0.43529412 0.39607843 0.45490196 0.5372549  0.43529412 0.51372549\n",
            "  0.55686275 0.65490196 0.71764706 0.53333333 0.47058824 0.72941176 0.04705882 0.         0.         0.         0.        ]\n",
            " [0.         0.         0.         0.         0.         0.39215686 0.58039216 0.42352941 0.57647059 0.57647059 0.5254902  0.47058824 0.41176471 0.45490196 0.51372549 0.45490196 0.53333333\n",
            "  0.5372549  0.64705882 0.75294118 0.5372549  0.44313725 0.73333333 0.11764706 0.         0.         0.         0.        ]\n",
            " [0.         0.         0.         0.         0.         0.44705882 0.56078431 0.42352941 0.61960784 0.57647059 0.50980392 0.49019608 0.41568627 0.44705882 0.47843137 0.46666667 0.50588235\n",
            "  0.5254902  0.62745098 0.76862745 0.53333333 0.42745098 0.71372549 0.2        0.         0.         0.         0.        ]\n",
            " [0.         0.         0.         0.         0.         0.47058824 0.54901961 0.45882353 0.59215686 0.58039216 0.51372549 0.48627451 0.42745098 0.47058824 0.56078431 0.47058824 0.50980392\n",
            "  0.50196078 0.62352941 0.7372549  0.43529412 0.42352941 0.69803922 0.25882353 0.         0.         0.         0.        ]\n",
            " [0.         0.         0.         0.         0.         0.49019608 0.50588235 0.50196078 0.43921569 0.56862745 0.54901961 0.47843137 0.44313725 0.4627451  0.5254902  0.45882353 0.51764706\n",
            "  0.50196078 0.65098039 0.61568627 0.35686275 0.47058824 0.66666667 0.29019608 0.         0.         0.         0.        ]\n",
            " [0.         0.         0.         0.         0.         0.49411765 0.48235294 0.54117647 0.29019608 0.54901961 0.56078431 0.48627451 0.43529412 0.43921569 0.49411765 0.47058824 0.50980392\n",
            "  0.50588235 0.68627451 0.47058824 0.34509804 0.50196078 0.64313725 0.35686275 0.         0.         0.         0.        ]\n",
            " [0.         0.         0.         0.         0.         0.48627451 0.48235294 0.61568627 0.17647059 0.56862745 0.56078431 0.48627451 0.44313725 0.46666667 0.58039216 0.47843137 0.51372549\n",
            "  0.50588235 0.71764706 0.35294118 0.28627451 0.5372549  0.60784314 0.38823529 0.         0.         0.         0.        ]\n",
            " [0.         0.         0.         0.         0.         0.4627451  0.47843137 0.65490196 0.         0.56078431 0.58431373 0.47843137 0.43921569 0.4627451  0.5372549  0.45490196 0.51764706\n",
            "  0.49411765 0.71764706 0.28627451 0.19607843 0.59607843 0.57647059 0.39607843 0.         0.         0.         0.        ]\n",
            " [0.         0.         0.         0.         0.         0.43529412 0.50196078 0.64313725 0.         0.55686275 0.59215686 0.47843137 0.43529412 0.45882353 0.51764706 0.47058824 0.53333333\n",
            "  0.49019608 0.71372549 0.35294118 0.07058824 0.64313725 0.56862745 0.41960784 0.         0.         0.         0.        ]\n",
            " [0.         0.         0.         0.         0.         0.42745098 0.51764706 0.61960784 0.         0.57254902 0.58039216 0.47058824 0.42352941 0.49019608 0.61568627 0.47058824 0.53333333\n",
            "  0.51372549 0.69019608 0.43529412 0.         0.64313725 0.56078431 0.4627451  0.         0.         0.         0.        ]\n",
            " [0.         0.         0.         0.         0.         0.43529412 0.55294118 0.54901961 0.         0.58039216 0.58431373 0.47058824 0.44705882 0.48235294 0.5372549  0.48627451 0.5372549\n",
            "  0.51372549 0.67058824 0.52941176 0.         0.61568627 0.57647059 0.49019608 0.         0.         0.         0.        ]\n",
            " [0.         0.         0.         0.         0.         0.43529412 0.60392157 0.43529412 0.         0.60784314 0.58039216 0.4627451  0.45490196 0.48627451 0.56078431 0.48235294 0.51372549\n",
            "  0.50588235 0.65490196 0.60784314 0.         0.50588235 0.61568627 0.50588235 0.         0.         0.         0.        ]\n",
            " [0.         0.         0.         0.         0.         0.42745098 0.60784314 0.34117647 0.         0.61568627 0.56862745 0.46666667 0.45882353 0.49411765 0.60392157 0.49411765 0.50980392\n",
            "  0.48235294 0.63137255 0.62745098 0.         0.38039216 0.63921569 0.50980392 0.         0.         0.         0.        ]\n",
            " [0.         0.         0.         0.         0.         0.48627451 0.55686275 0.21176471 0.         0.58431373 0.55294118 0.46666667 0.46666667 0.48627451 0.53333333 0.50588235 0.49411765\n",
            "  0.47058824 0.6        0.68627451 0.         0.29803922 0.56862745 0.5372549  0.         0.         0.         0.        ]\n",
            " [0.         0.         0.         0.         0.         0.53333333 0.59215686 0.18431373 0.         0.58431373 0.5372549  0.46666667 0.4627451  0.49411765 0.56078431 0.51764706 0.50980392\n",
            "  0.48235294 0.6        0.6745098  0.         0.25882353 0.58039216 0.60392157 0.         0.         0.         0.        ]\n",
            " [0.         0.         0.         0.         0.         0.42745098 0.68235294 0.18823529 0.         0.60392157 0.54117647 0.46666667 0.45882353 0.48627451 0.54117647 0.50980392 0.50588235\n",
            "  0.49019608 0.62352941 0.65490196 0.         0.22745098 0.68235294 0.50196078 0.         0.         0.         0.        ]\n",
            " [0.         0.         0.         0.         0.         0.         0.         0.         0.         0.33333333 0.71372549 0.57647059 0.53333333 0.56078431 0.61960784 0.57254902 0.58039216\n",
            "  0.6        0.78039216 0.2745098  0.         0.         0.         0.         0.         0.         0.         0.        ]\n",
            " [0.         0.         0.         0.         0.         0.         0.         0.         0.         0.         0.10196078 0.21176471 0.28235294 0.3254902  0.37647059 0.33333333 0.31372549\n",
            "  0.23921569 0.05490196 0.         0.         0.         0.         0.         0.         0.         0.         0.        ]]\n"
          ],
          "name": "stdout"
        },
        {
          "output_type": "display_data",
          "data": {
            "image/png": "[encoded data removed]",
            "text/plain": [
              "<Figure size 432x288 with 1 Axes>"
            ]
          },
          "metadata": {
            "tags": [],
            "needs_background": "light"
          }
        }
      ]
    },
    {
      "cell_type": "code",
      "metadata": {
        "colab": {
          "base_uri": "https://localhost:8080/"
        },
        "id": "6QLVhw7SOCd8",
        "outputId": "93e51a9a-40e0-4db1-abbb-4e0ec914436e"
      },
      "source": [
        "training_images[0].shape"
      ],
      "execution_count": null,
      "outputs": [
        {
          "output_type": "execute_result",
          "data": {
            "text/plain": [
              "(28, 28)"
            ]
          },
          "metadata": {
            "tags": []
          },
          "execution_count": 14
        }
      ]
    },
    {
      "cell_type": "markdown",
      "metadata": {
        "id": "bTaT1RjyNjqV"
      },
      "source": [
        "### Creación del modelo\n",
        "\n"
      ]
    },
    {
      "cell_type": "code",
      "metadata": {
        "id": "g-myY9JWNvtY"
      },
      "source": [
        "model = tf.keras.models.Sequential([\n",
        "    tf.keras.layers.Flatten(), \n",
        "    tf.keras.layers.Dense(256, activation=tf.nn.relu), \n",
        "    tf.keras.layers.Dense(128, activation=tf.nn.relu), \n",
        "    tf.keras.layers.Dense(64, activation=tf.nn.relu), \n",
        "    tf.keras.layers.Dense(10, activation=tf.nn.softmax)\n",
        "])"
      ],
      "execution_count": null,
      "outputs": []
    },
    {
      "cell_type": "markdown",
      "metadata": {
        "id": "dwkxtrHdNvHg"
      },
      "source": [
        "### Entrenamiento del modelo"
      ]
    },
    {
      "cell_type": "code",
      "metadata": {
        "id": "F9LHH0f6N5Hi"
      },
      "source": [
        "model.compile(\n",
        "    optimizer=tf.optimizers.Adam(),\n",
        "    loss='sparse_categorical_crossentropy',\n",
        "    metrics=['accuracy']\n",
        ")"
      ],
      "execution_count": null,
      "outputs": []
    },
    {
      "cell_type": "code",
      "metadata": {
        "id": "ybq9AzJiN8ZV",
        "colab": {
          "base_uri": "https://localhost:8080/"
        },
        "outputId": "e80f2b1b-c31b-41e8-9260-a609571af555"
      },
      "source": [
        "model.fit(training_images, training_labels, epochs=15)"
      ],
      "execution_count": null,
      "outputs": [
        {
          "output_type": "stream",
          "text": [
            "Epoch 1/15\n",
            "1875/1875 [==============================] - 3s 2ms/step - loss: 0.4841 - accuracy: 0.8261\n",
            "Epoch 2/15\n",
            "1875/1875 [==============================] - 3s 2ms/step - loss: 0.3620 - accuracy: 0.8674\n",
            "Epoch 3/15\n",
            "1875/1875 [==============================] - 3s 2ms/step - loss: 0.3276 - accuracy: 0.8789\n",
            "Epoch 4/15\n",
            "1875/1875 [==============================] - 3s 2ms/step - loss: 0.3031 - accuracy: 0.8876\n",
            "Epoch 5/15\n",
            "1875/1875 [==============================] - 3s 2ms/step - loss: 0.2869 - accuracy: 0.8932\n",
            "Epoch 6/15\n",
            "1875/1875 [==============================] - 3s 2ms/step - loss: 0.2718 - accuracy: 0.8989\n",
            "Epoch 7/15\n",
            "1875/1875 [==============================] - 3s 2ms/step - loss: 0.2604 - accuracy: 0.9025\n",
            "Epoch 8/15\n",
            "1875/1875 [==============================] - 3s 2ms/step - loss: 0.2474 - accuracy: 0.9076\n",
            "Epoch 9/15\n",
            "1875/1875 [==============================] - 3s 2ms/step - loss: 0.2387 - accuracy: 0.9092\n",
            "Epoch 10/15\n",
            "1875/1875 [==============================] - 3s 2ms/step - loss: 0.2292 - accuracy: 0.9131\n",
            "Epoch 11/15\n",
            "1875/1875 [==============================] - 3s 2ms/step - loss: 0.2219 - accuracy: 0.9151\n",
            "Epoch 12/15\n",
            "1875/1875 [==============================] - 3s 2ms/step - loss: 0.2126 - accuracy: 0.9193\n",
            "Epoch 13/15\n",
            "1875/1875 [==============================] - 3s 2ms/step - loss: 0.2056 - accuracy: 0.9211\n",
            "Epoch 14/15\n",
            "1875/1875 [==============================] - 3s 2ms/step - loss: 0.2023 - accuracy: 0.9233\n",
            "Epoch 15/15\n",
            "1875/1875 [==============================] - 3s 2ms/step - loss: 0.1940 - accuracy: 0.9257\n"
          ],
          "name": "stdout"
        },
        {
          "output_type": "execute_result",
          "data": {
            "text/plain": [
              "<tensorflow.python.keras.callbacks.History at 0x7f81beae5bd0>"
            ]
          },
          "metadata": {
            "tags": []
          },
          "execution_count": 33
        }
      ]
    },
    {
      "cell_type": "markdown",
      "metadata": {
        "id": "cH9mfZMTN8_H"
      },
      "source": [
        "### Evaluación del modelo"
      ]
    },
    {
      "cell_type": "code",
      "metadata": {
        "id": "rHCV5BrAN-pq",
        "colab": {
          "base_uri": "https://localhost:8080/"
        },
        "outputId": "c7e47232-b522-4ef3-fc32-d1954d7d76cc"
      },
      "source": [
        "model.evaluate(test_images, test_labels)"
      ],
      "execution_count": null,
      "outputs": [
        {
          "output_type": "stream",
          "text": [
            "313/313 [==============================] - 1s 2ms/step - loss: 0.3884 - accuracy: 0.8792\n"
          ],
          "name": "stdout"
        },
        {
          "output_type": "execute_result",
          "data": {
            "text/plain": [
              "[0.3883811831474304, 0.8791999816894531]"
            ]
          },
          "metadata": {
            "tags": []
          },
          "execution_count": 34
        }
      ]
    },
    {
      "cell_type": "markdown",
      "metadata": {
        "id": "w-hQX4NNOd_D"
      },
      "source": [
        "### Predicción\n"
      ]
    },
    {
      "cell_type": "code",
      "metadata": {
        "id": "GaDFuXyROfZY",
        "colab": {
          "base_uri": "https://localhost:8080/",
          "height": 283
        },
        "outputId": "9ee55f05-1703-413f-e1f7-22ed939b3b89"
      },
      "source": [
        "import random\n",
        "\n",
        "test_index = random.randint(0, 10000 - 1)\n",
        "\n",
        "plt.imshow(test_images[test_index], cmap='viridis')\n",
        "plt.axis(False)\n",
        "\n",
        "print(\"Label:\", test_labels[test_index])\n",
        "input_image = np.reshape(test_images[test_index], (1, 784))\n",
        "prediction = model.predict(np.expand_dims(input_image, axis=-1))\n",
        "print(\"Prediction:\", np.argmax(prediction))"
      ],
      "execution_count": null,
      "outputs": [
        {
          "output_type": "stream",
          "text": [
            "Label: 7\n",
            "Prediction: 7\n"
          ],
          "name": "stdout"
        },
        {
          "output_type": "display_data",
          "data": {
            "image/png": "[encoded data removed]",
            "text/plain": [
              "<Figure size 432x288 with 1 Axes>"
            ]
          },
          "metadata": {
            "tags": [],
            "needs_background": "light"
          }
        }
      ]
    },
    {
      "cell_type": "code",
      "metadata": {
        "colab": {
          "base_uri": "https://localhost:8080/"
        },
        "id": "RHA0nk24QEVz",
        "outputId": "9d8d9eba-9277-4f90-9892-a2b6da5eaf79"
      },
      "source": [
        "prediction"
      ],
      "execution_count": null,
      "outputs": [
        {
          "output_type": "execute_result",
          "data": {
            "text/plain": [
              "array([[3.2021964e-01, 5.1770403e-06, 6.2667266e-03, 4.3357564e-03, 7.5934454e-06, 1.5508351e-05, 6.6891927e-01, 7.4771127e-11, 2.3000537e-04, 2.8293229e-07]], dtype=float32)"
            ]
          },
          "metadata": {
            "tags": []
          },
          "execution_count": 27
        }
      ]
    }
  ]
}