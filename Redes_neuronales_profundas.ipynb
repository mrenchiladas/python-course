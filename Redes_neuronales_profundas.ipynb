{
  "nbformat": 4,
  "nbformat_minor": 0,
  "metadata": {
    "colab": {
      "name": "Redes neuronales profundas",
      "provenance": [],
      "collapsed_sections": [],
      "toc_visible": true,
      "include_colab_link": true
    },
    "kernelspec": {
      "name": "python3",
      "display_name": "Python 3"
    },
    "accelerator": "GPU"
  },
  "cells": [
    {
      "cell_type": "markdown",
      "metadata": {
        "id": "view-in-github",
        "colab_type": "text"
      },
      "source": [
        "<a href=\"https://colab.research.google.com/github/mrenchiladas/python-course/blob/main/Redes_neuronales_profundas.ipynb\" target=\"_parent\"><img src=\"https://colab.research.google.com/assets/colab-badge.svg\" alt=\"Open In Colab\"/></a>"
      ]
    },
    {
      "cell_type": "markdown",
      "metadata": {
        "id": "R6jO_1gISKxk"
      },
      "source": [
        "# Redes neuronales profundas\n",
        "\n",
        "> **Rodolfo Ferro** <br>\n",
        "> Google Dev Expert en ML, 2020.\n",
        ">\n",
        "> _Redes:_\n",
        "> - GitHub - [RodolfoFerro](https://github.com/RodolfoFerro)\n",
        "> - Twitter - [@FerroRodolfo](https://twitter.com/FerroRodolfo)\n",
        "> - Instagram - [@rodo_ferro](https://instagram.com/rodo_ferro)\n",
        "\n",
        "## Contenidos\n",
        "\n",
        "#### **Sección IV**\n",
        "1. **Código:** El dataset de modas\n",
        "2. **Código:** Preparación de datos\n",
        "3. **Código:** Creación del modelo\n",
        "4. **Código:** Entrenamiento del modelo\n",
        "5. **Código:** Evaluación del modelo\n",
        "6. **Código:** Predicción\n"
      ]
    },
    {
      "cell_type": "markdown",
      "metadata": {
        "id": "xNVG2PnSEtQN"
      },
      "source": [
        "## **Sección IV**"
      ]
    },
    {
      "cell_type": "markdown",
      "metadata": {
        "id": "1Z7JrTygMDSx"
      },
      "source": [
        "### El dataset de modas\n",
        "\n",
        "Comencemos importando TensorFlow."
      ]
    },
    {
      "cell_type": "code",
      "metadata": {
        "id": "LPB4nBh8MFDm",
        "colab": {
          "base_uri": "https://localhost:8080/"
        },
        "outputId": "e44eba60-91e1-4fd8-d0f0-0fd06e8cf8da"
      },
      "source": [
        "import tensorflow as tf\n",
        "print(tf.__version__)"
      ],
      "execution_count": 1,
      "outputs": [
        {
          "output_type": "stream",
          "name": "stdout",
          "text": [
            "2.6.0\n"
          ]
        }
      ]
    },
    {
      "cell_type": "markdown",
      "metadata": {
        "id": "p65n1ePSMYm8"
      },
      "source": [
        "Los datos de Fashion MNIST están disponibles directamente en la API de conjuntos de datos de `tf.keras`. Los cargas así:"
      ]
    },
    {
      "cell_type": "code",
      "metadata": {
        "id": "Wgked3UaMJW4"
      },
      "source": [
        "fashion_mnist = tf.keras.datasets.fashion_mnist"
      ],
      "execution_count": 2,
      "outputs": []
    },
    {
      "cell_type": "markdown",
      "metadata": {
        "id": "UsEGBNwrMSac"
      },
      "source": [
        "Llamar a `load_data` en este objeto nos dará dos conjuntos con los valores de entrenamiento y prueba para los gráficos que contienen las prendas y sus etiquetas."
      ]
    },
    {
      "cell_type": "code",
      "metadata": {
        "id": "1XdP6qF1MLR6",
        "colab": {
          "base_uri": "https://localhost:8080/"
        },
        "outputId": "e4e0f5ef-2879-4e78-8d6b-6fbbcc993b46"
      },
      "source": [
        "(training_images, training_labels), (test_images, test_labels) = fashion_mnist.load_data()"
      ],
      "execution_count": 3,
      "outputs": [
        {
          "output_type": "stream",
          "name": "stdout",
          "text": [
            "Downloading data from https://storage.googleapis.com/tensorflow/tf-keras-datasets/train-labels-idx1-ubyte.gz\n",
            "32768/29515 [=================================] - 0s 0us/step\n",
            "40960/29515 [=========================================] - 0s 0us/step\n",
            "Downloading data from https://storage.googleapis.com/tensorflow/tf-keras-datasets/train-images-idx3-ubyte.gz\n",
            "26427392/26421880 [==============================] - 0s 0us/step\n",
            "26435584/26421880 [==============================] - 0s 0us/step\n",
            "Downloading data from https://storage.googleapis.com/tensorflow/tf-keras-datasets/t10k-labels-idx1-ubyte.gz\n",
            "16384/5148 [===============================================================================================] - 0s 0us/step\n",
            "Downloading data from https://storage.googleapis.com/tensorflow/tf-keras-datasets/t10k-images-idx3-ubyte.gz\n",
            "4423680/4422102 [==============================] - 0s 0us/step\n",
            "4431872/4422102 [==============================] - 0s 0us/step\n"
          ]
        }
      ]
    },
    {
      "cell_type": "markdown",
      "metadata": {
        "id": "6c0eSrlvMs6H"
      },
      "source": [
        "¿Cómo se ven estos valores?\n",
        "\n",
        "Imprimamos una imagen de entrenamiento y una etiqueta de entrenamiento para ver."
      ]
    },
    {
      "cell_type": "code",
      "metadata": {
        "id": "3CdTltfNM0qF",
        "colab": {
          "base_uri": "https://localhost:8080/",
          "height": 735
        },
        "outputId": "ca3a86f8-694c-4fde-b3fe-a5bb86b8a159"
      },
      "source": [
        "import numpy as np\n",
        "import matplotlib.pyplot as plt\n",
        "np.set_printoptions(linewidth=200)\n",
        "\n",
        "\n",
        "# Set index of image to be seen\n",
        "img_index = 100 # 6000 -1\n",
        "\n",
        "# Plot image\n",
        "plt.imshow(training_images[img_index], cmap='gray')\n",
        "plt.axis(False)\n",
        "\n",
        "print(\"Label:\", training_labels[img_index])\n",
        "print(\"Matrix:\", training_images[img_index])"
      ],
      "execution_count": 6,
      "outputs": [
        {
          "output_type": "stream",
          "name": "stdout",
          "text": [
            "Label: 8\n",
            "Matrix: [[  0   0   0   0   0   0   0   0   0   1   0   0  18 107 119 103   9   0   0   0   0   0   0   0   0   0   0   0]\n",
            " [  0   0   0   0   0   0   0   0   0   0   0  99 155 113  61 118 173 117   0   0   3   0   0   0   0   0   0   0]\n",
            " [  0   0   0   0   0   0   0   0   1   0 110 136   0   0   0   0   0 167 159   0   0   2   0   0   0   0   0   0]\n",
            " [  0   0   0   0   0   1   0   6   0  72 147   0   0   5   0   2   0   0 174 118   0   5   0   0   0   0   0   0]\n",
            " [  0   0   0   0   0   1   5   0   0 174   4   0   4   0   0   0   0   0   0 204  44   0   4   0   0   0   0   0]\n",
            " [  0   0   0   0   0   0   8   0 125 128   0   9   0   0   0   0   0   2   0 107 152   0   6   0   0   0   0   0]\n",
            " [  0   0   0   0   0   0   0   0 184   9   0   4   0   0   0   0   0   2   0   0 190   0   0   2   0   0   0   0]\n",
            " [  0   0   0   1   0   2   0  73 158   0   0   0   0   1   0   0   0   0   4   0 157  79   0   3   1   0   0   0]\n",
            " [  0   0   2   5   1   0   0 157  98   0   2   0   0   1   0   0   0   0   5   0 121 145   0   0   0   0   0   0]\n",
            " [  0   0   0   0   0   0   0 231  84   0   2   1   1   0   0   0   0   0   1   0  92 223  16   0   7   4   1   0]\n",
            " [  0   0   0   0   0   0  38 183  81   0   0   0   2   2   1   2   1   0   1   0 120 226  57   0   0   0   0   0]\n",
            " [  0   0 173 216 193 213 183 164 167  98  16   0   0   0   0   0   0   0   0   0 107 141 111  91  90 108  50   0]\n",
            " [  0   0 185 221 217 210 202 222 200 206 202 204 109  27  12  17  61 136 180 221 202 225 208 214 223 240 162   0]\n",
            " [  0   0 183 220 205 200 193 184 189 182 173 194 215 216 205 207 207 195 185 194 194 203 212 183 193 211 153   0]\n",
            " [  0   0 190 233 203 206 214 216 195 183 176 159 175 189 202 195 186 186 182 186 195 209 235 203 202 215 136   0]\n",
            " [  0   0 180 228 201 202 188 183 178 192 186 181 181 177 204 217 175 179 184 176 166 169 175 185 152 203 107   0]\n",
            " [  0   0 167 235 200 207 207 209 207 203 198 189 182 178 186 189 178 192 197 195 192 185 184 205 187 255  61   0]\n",
            " [  0   0 152 250 208 214 209 202 200 202 205 204 200 192 198 204 195 205 206 198 199 203 214 207 179 249  55   0]\n",
            " [  0   0 126 255 211 215 210 206 203 203 203 206 204 199 206 207 200 206 201 199 202 208 215 195 174 211  15   0]\n",
            " [  0   0 107 255 212 211 210 211 208 206 206 207 208 208 217 214 205 206 204 208 211 211 220 197 182 225   0   0]\n",
            " [  0   0  63 232 211 216 212 214 212 212 214 212 211 212 223 219 210 214 213 212 211 209 217 208 168 190   0   0]\n",
            " [  0   0  14 255 218 221 215 218 218 217 215 213 211 215 228 220 216 222 217 217 216 218 212 213 189 143   0   0]\n",
            " [  0   0   0 230 227 214 217 218 216 217 217 214 216 222 226 218 218 220 219 218 217 218 217 215 216 113   0   0]\n",
            " [  0   0   0 177 233 216 223 222 213 213 215 212 220 226 221 220 221 218 222 220 220 221 217 212 219  52   0   0]\n",
            " [  0   0   0  10 223 222 220 211 213 215 220 222 226 226 221 223 222 222 221 218 220 219 220 223 174   0   0   0]\n",
            " [  0   0   0   0 126 241 208 210 214 214 216 216 220 220 214 213 212 212 210 215 217 218 215 236  42   0   1   0]\n",
            " [  0   0   0   0   0 188 237 230 233 255 255 255 255 255 255 255 255 255 255 255 231 229 239 161   0   0   0   0]\n",
            " [  0   0   0   0   0   0  63  95 108 105 100 103 104 105 102 100  98  97  96  90  80  83  60   0   0   0   0   0]]\n"
          ]
        },
        {
          "output_type": "display_data",
          "data": {
            "image/png": "[encoded data removed]",
            "text/plain": [
              "<Figure size 432x288 with 1 Axes>"
            ]
          },
          "metadata": {
            "needs_background": "light"
          }
        }
      ]
    },
    {
      "cell_type": "markdown",
      "metadata": {
        "id": "CxfNdPU3NQge"
      },
      "source": [
        "### Preparación de los datos\n",
        "\n",
        "Notarás que todos los valores están entre 0 y 255. Si estamos entrenando una red neuronal, por varias razones es más fácil si transformamos los valores para tratar todos con valores entre 0 y 1. Este proceso se llama **normalización**."
      ]
    },
    {
      "cell_type": "code",
      "metadata": {
        "id": "vWoPQWCGNdnB"
      },
      "source": [
        "training_images  = training_images / 255.0\n",
        "test_images = test_images / 255.0"
      ],
      "execution_count": 7,
      "outputs": []
    },
    {
      "cell_type": "code",
      "metadata": {
        "colab": {
          "base_uri": "https://localhost:8080/",
          "height": 1000
        },
        "id": "32Dx5PzgJ3gK",
        "outputId": "afe64472-d855-4587-84f8-fe4bb6996639"
      },
      "source": [
        "import numpy as np\n",
        "import matplotlib.pyplot as plt\n",
        "np.set_printoptions(linewidth=200)\n",
        "\n",
        "\n",
        "# Set index of image to be seen\n",
        "img_index = 3000 # 6000 -1\n",
        "\n",
        "# Plot image\n",
        "plt.imshow(training_images[img_index], cmap='gray')\n",
        "plt.axis(False)\n",
        "\n",
        "print(\"Label:\", training_labels[img_index])\n",
        "print(\"Matrix:\", training_images[img_index])"
      ],
      "execution_count": 8,
      "outputs": [
        {
          "output_type": "stream",
          "name": "stdout",
          "text": [
            "Label: 6\n",
            "Matrix: [[0.         0.         0.         0.         0.         0.         0.         0.         0.00392157 0.00392157 0.         0.         0.47058824 0.51372549 0.35686275 0.57647059 0.11764706\n",
            "  0.         0.         0.00392157 0.00392157 0.         0.         0.         0.         0.         0.         0.        ]\n",
            " [0.         0.         0.         0.         0.         0.         0.00392157 0.01176471 0.         0.         0.         0.         0.98431373 0.78039216 0.6745098  0.76470588 0.59607843\n",
            "  0.         0.         0.         0.         0.01176471 0.00392157 0.         0.         0.         0.         0.        ]\n",
            " [0.         0.         0.         0.         0.         0.         0.         0.         0.         0.16862745 0.48627451 0.75686275 0.65098039 0.9372549  1.         0.84705882 0.6745098\n",
            "  0.89411765 0.49411765 0.23921569 0.         0.         0.         0.         0.         0.         0.         0.        ]\n",
            " [0.         0.         0.         0.         0.         0.         0.         0.37647059 0.65490196 0.60784314 0.62352941 0.67058824 0.69803922 0.82745098 0.84313725 0.82352941 0.76862745\n",
            "  0.74117647 0.61960784 0.64313725 0.62352941 0.42352941 0.         0.         0.         0.         0.         0.        ]\n",
            " [0.         0.         0.         0.         0.         0.         0.3254902  0.61568627 0.51372549 0.45882353 0.47058824 0.58039216 0.58039216 0.56862745 0.69803922 0.62352941 0.68235294\n",
            "  0.62745098 0.48235294 0.51764706 0.55686275 0.6745098  0.14901961 0.         0.         0.         0.         0.        ]\n",
            " [0.         0.         0.         0.         0.         0.         0.62352941 0.50196078 0.4627451  0.47058824 0.47843137 0.43921569 0.36470588 0.48627451 0.63137255 0.42745098 0.50196078\n",
            "  0.50196078 0.50588235 0.57254902 0.54117647 0.65490196 0.47843137 0.         0.         0.         0.         0.        ]\n",
            " [0.         0.         0.         0.         0.         0.         0.67058824 0.52941176 0.47058824 0.44705882 0.4627451  0.46666667 0.41960784 0.49019608 0.48235294 0.45882353 0.48627451\n",
            "  0.48627451 0.46666667 0.56862745 0.57647059 0.65098039 0.58039216 0.         0.         0.         0.         0.        ]\n",
            " [0.         0.         0.         0.         0.         0.01568627 0.67058824 0.54117647 0.49411765 0.47058824 0.45882353 0.4627451  0.4        0.47843137 0.56862745 0.43529412 0.47058824\n",
            "  0.47843137 0.47058824 0.59607843 0.60392157 0.60784314 0.66666667 0.         0.         0.         0.         0.        ]\n",
            " [0.         0.         0.         0.         0.         0.12156863 0.66666667 0.50588235 0.54117647 0.49019608 0.44313725 0.41568627 0.40392157 0.4627451  0.5372549  0.42352941 0.52941176\n",
            "  0.50980392 0.61960784 0.71372549 0.54117647 0.56078431 0.72941176 0.         0.         0.         0.         0.        ]\n",
            " [0.         0.         0.         0.         0.         0.22745098 0.63921569 0.44705882 0.5372549  0.56078431 0.46666667 0.40392157 0.39215686 0.42745098 0.4627451  0.42745098 0.50588235\n",
            "  0.5254902  0.6745098  0.70980392 0.51372549 0.53333333 0.74509804 0.         0.         0.         0.         0.        ]\n",
            " [0.         0.         0.         0.         0.         0.29803922 0.62745098 0.44313725 0.55294118 0.58039216 0.50196078 0.43529412 0.39607843 0.45490196 0.5372549  0.43529412 0.51372549\n",
            "  0.55686275 0.65490196 0.71764706 0.53333333 0.47058824 0.72941176 0.04705882 0.         0.         0.         0.        ]\n",
            " [0.         0.         0.         0.         0.         0.39215686 0.58039216 0.42352941 0.57647059 0.57647059 0.5254902  0.47058824 0.41176471 0.45490196 0.51372549 0.45490196 0.53333333\n",
            "  0.5372549  0.64705882 0.75294118 0.5372549  0.44313725 0.73333333 0.11764706 0.         0.         0.         0.        ]\n",
            " [0.         0.         0.         0.         0.         0.44705882 0.56078431 0.42352941 0.61960784 0.57647059 0.50980392 0.49019608 0.41568627 0.44705882 0.47843137 0.46666667 0.50588235\n",
            "  0.5254902  0.62745098 0.76862745 0.53333333 0.42745098 0.71372549 0.2        0.         0.         0.         0.        ]\n",
            " [0.         0.         0.         0.         0.         0.47058824 0.54901961 0.45882353 0.59215686 0.58039216 0.51372549 0.48627451 0.42745098 0.47058824 0.56078431 0.47058824 0.50980392\n",
            "  0.50196078 0.62352941 0.7372549  0.43529412 0.42352941 0.69803922 0.25882353 0.         0.         0.         0.        ]\n",
            " [0.         0.         0.         0.         0.         0.49019608 0.50588235 0.50196078 0.43921569 0.56862745 0.54901961 0.47843137 0.44313725 0.4627451  0.5254902  0.45882353 0.51764706\n",
            "  0.50196078 0.65098039 0.61568627 0.35686275 0.47058824 0.66666667 0.29019608 0.         0.         0.         0.        ]\n",
            " [0.         0.         0.         0.         0.         0.49411765 0.48235294 0.54117647 0.29019608 0.54901961 0.56078431 0.48627451 0.43529412 0.43921569 0.49411765 0.47058824 0.50980392\n",
            "  0.50588235 0.68627451 0.47058824 0.34509804 0.50196078 0.64313725 0.35686275 0.         0.         0.         0.        ]\n",
            " [0.         0.         0.         0.         0.         0.48627451 0.48235294 0.61568627 0.17647059 0.56862745 0.56078431 0.48627451 0.44313725 0.46666667 0.58039216 0.47843137 0.51372549\n",
            "  0.50588235 0.71764706 0.35294118 0.28627451 0.5372549  0.60784314 0.38823529 0.         0.         0.         0.        ]\n",
            " [0.         0.         0.         0.         0.         0.4627451  0.47843137 0.65490196 0.         0.56078431 0.58431373 0.47843137 0.43921569 0.4627451  0.5372549  0.45490196 0.51764706\n",
            "  0.49411765 0.71764706 0.28627451 0.19607843 0.59607843 0.57647059 0.39607843 0.         0.         0.         0.        ]\n",
            " [0.         0.         0.         0.         0.         0.43529412 0.50196078 0.64313725 0.         0.55686275 0.59215686 0.47843137 0.43529412 0.45882353 0.51764706 0.47058824 0.53333333\n",
            "  0.49019608 0.71372549 0.35294118 0.07058824 0.64313725 0.56862745 0.41960784 0.         0.         0.         0.        ]\n",
            " [0.         0.         0.         0.         0.         0.42745098 0.51764706 0.61960784 0.         0.57254902 0.58039216 0.47058824 0.42352941 0.49019608 0.61568627 0.47058824 0.53333333\n",
            "  0.51372549 0.69019608 0.43529412 0.         0.64313725 0.56078431 0.4627451  0.         0.         0.         0.        ]\n",
            " [0.         0.         0.         0.         0.         0.43529412 0.55294118 0.54901961 0.         0.58039216 0.58431373 0.47058824 0.44705882 0.48235294 0.5372549  0.48627451 0.5372549\n",
            "  0.51372549 0.67058824 0.52941176 0.         0.61568627 0.57647059 0.49019608 0.         0.         0.         0.        ]\n",
            " [0.         0.         0.         0.         0.         0.43529412 0.60392157 0.43529412 0.         0.60784314 0.58039216 0.4627451  0.45490196 0.48627451 0.56078431 0.48235294 0.51372549\n",
            "  0.50588235 0.65490196 0.60784314 0.         0.50588235 0.61568627 0.50588235 0.         0.         0.         0.        ]\n",
            " [0.         0.         0.         0.         0.         0.42745098 0.60784314 0.34117647 0.         0.61568627 0.56862745 0.46666667 0.45882353 0.49411765 0.60392157 0.49411765 0.50980392\n",
            "  0.48235294 0.63137255 0.62745098 0.         0.38039216 0.63921569 0.50980392 0.         0.         0.         0.        ]\n",
            " [0.         0.         0.         0.         0.         0.48627451 0.55686275 0.21176471 0.         0.58431373 0.55294118 0.46666667 0.46666667 0.48627451 0.53333333 0.50588235 0.49411765\n",
            "  0.47058824 0.6        0.68627451 0.         0.29803922 0.56862745 0.5372549  0.         0.         0.         0.        ]\n",
            " [0.         0.         0.         0.         0.         0.53333333 0.59215686 0.18431373 0.         0.58431373 0.5372549  0.46666667 0.4627451  0.49411765 0.56078431 0.51764706 0.50980392\n",
            "  0.48235294 0.6        0.6745098  0.         0.25882353 0.58039216 0.60392157 0.         0.         0.         0.        ]\n",
            " [0.         0.         0.         0.         0.         0.42745098 0.68235294 0.18823529 0.         0.60392157 0.54117647 0.46666667 0.45882353 0.48627451 0.54117647 0.50980392 0.50588235\n",
            "  0.49019608 0.62352941 0.65490196 0.         0.22745098 0.68235294 0.50196078 0.         0.         0.         0.        ]\n",
            " [0.         0.         0.         0.         0.         0.         0.         0.         0.         0.33333333 0.71372549 0.57647059 0.53333333 0.56078431 0.61960784 0.57254902 0.58039216\n",
            "  0.6        0.78039216 0.2745098  0.         0.         0.         0.         0.         0.         0.         0.        ]\n",
            " [0.         0.         0.         0.         0.         0.         0.         0.         0.         0.         0.10196078 0.21176471 0.28235294 0.3254902  0.37647059 0.33333333 0.31372549\n",
            "  0.23921569 0.05490196 0.         0.         0.         0.         0.         0.         0.         0.         0.        ]]\n"
          ]
        },
        {
          "output_type": "display_data",
          "data": {
            "image/png": "[encoded data removed]",
            "text/plain": [
              "<Figure size 432x288 with 1 Axes>"
            ]
          },
          "metadata": {
            "needs_background": "light"
          }
        }
      ]
    },
    {
      "cell_type": "code",
      "metadata": {
        "colab": {
          "base_uri": "https://localhost:8080/"
        },
        "id": "6QLVhw7SOCd8",
        "outputId": "b0fe770c-e303-44f4-fd23-ba3dec180de5"
      },
      "source": [
        "training_images[0].shape"
      ],
      "execution_count": 9,
      "outputs": [
        {
          "output_type": "execute_result",
          "data": {
            "text/plain": [
              "(28, 28)"
            ]
          },
          "metadata": {},
          "execution_count": 9
        }
      ]
    },
    {
      "cell_type": "markdown",
      "metadata": {
        "id": "bTaT1RjyNjqV"
      },
      "source": [
        "### Creación del modelo\n",
        "\n"
      ]
    },
    {
      "cell_type": "code",
      "metadata": {
        "id": "g-myY9JWNvtY"
      },
      "source": [
        "model = tf.keras.models.Sequential([\n",
        "    tf.keras.layers.Flatten(), \n",
        "    tf.keras.layers.Dense(256, activation=tf.nn.relu), \n",
        "    tf.keras.layers.Dense(128, activation=tf.nn.relu), \n",
        "    tf.keras.layers.Dense(64, activation=tf.nn.relu), \n",
        "    tf.keras.layers.Dense(10, activation=tf.nn.softmax)\n",
        "])"
      ],
      "execution_count": null,
      "outputs": []
    },
    {
      "cell_type": "code",
      "metadata": {
        "id": "fnQtmtIB2ifV"
      },
      "source": [
        "model = tf.keras.models.Sequential()\n",
        "model.add(tf.keras.layers.Flatten())\n",
        "model.add(tf.keras.layers.Dense(256, activation=tf.nn.relu))\n",
        "model.add(tf.keras.layers.Dense(64, activation=tf.nn.relu))\n",
        "model.add(tf.keras.layers.Dense(10, activation=tf.nn.softmax))"
      ],
      "execution_count": 46,
      "outputs": []
    },
    {
      "cell_type": "markdown",
      "metadata": {
        "id": "dwkxtrHdNvHg"
      },
      "source": [
        "### Entrenamiento del modelo"
      ]
    },
    {
      "cell_type": "code",
      "metadata": {
        "id": "F9LHH0f6N5Hi"
      },
      "source": [
        "model.compile(\n",
        "    optimizer=tf.optimizers.Adam(),\n",
        "    loss='sparse_categorical_crossentropy',\n",
        "    metrics=['accuracy']\n",
        ")"
      ],
      "execution_count": 47,
      "outputs": []
    },
    {
      "cell_type": "code",
      "metadata": {
        "id": "ybq9AzJiN8ZV",
        "colab": {
          "base_uri": "https://localhost:8080/"
        },
        "outputId": "bbc08b48-b9ea-473f-9cd7-86881521b276"
      },
      "source": [
        "model.fit(training_images, training_labels, epochs=50)"
      ],
      "execution_count": 48,
      "outputs": [
        {
          "output_type": "stream",
          "name": "stdout",
          "text": [
            "Epoch 1/50\n",
            "1875/1875 [==============================] - 5s 2ms/step - loss: 0.4814 - accuracy: 0.8276\n",
            "Epoch 2/50\n",
            "1875/1875 [==============================] - 4s 2ms/step - loss: 0.3600 - accuracy: 0.8676\n",
            "Epoch 3/50\n",
            "1875/1875 [==============================] - 4s 2ms/step - loss: 0.3254 - accuracy: 0.8791\n",
            "Epoch 4/50\n",
            "1875/1875 [==============================] - 4s 2ms/step - loss: 0.3043 - accuracy: 0.8873\n",
            "Epoch 5/50\n",
            "1875/1875 [==============================] - 5s 2ms/step - loss: 0.2839 - accuracy: 0.8935\n",
            "Epoch 6/50\n",
            "1875/1875 [==============================] - 5s 2ms/step - loss: 0.2707 - accuracy: 0.8991\n",
            "Epoch 7/50\n",
            "1875/1875 [==============================] - 4s 2ms/step - loss: 0.2588 - accuracy: 0.9035\n",
            "Epoch 8/50\n",
            "1875/1875 [==============================] - 4s 2ms/step - loss: 0.2472 - accuracy: 0.9061\n",
            "Epoch 9/50\n",
            "1875/1875 [==============================] - 5s 2ms/step - loss: 0.2381 - accuracy: 0.9101\n",
            "Epoch 10/50\n",
            "1875/1875 [==============================] - 5s 2ms/step - loss: 0.2292 - accuracy: 0.9133\n",
            "Epoch 11/50\n",
            "1875/1875 [==============================] - 5s 2ms/step - loss: 0.2226 - accuracy: 0.9150\n",
            "Epoch 12/50\n",
            "1875/1875 [==============================] - 5s 2ms/step - loss: 0.2115 - accuracy: 0.9193\n",
            "Epoch 13/50\n",
            "1875/1875 [==============================] - 5s 2ms/step - loss: 0.2078 - accuracy: 0.9213\n",
            "Epoch 14/50\n",
            "1875/1875 [==============================] - 4s 2ms/step - loss: 0.2000 - accuracy: 0.9241\n",
            "Epoch 15/50\n",
            "1875/1875 [==============================] - 5s 2ms/step - loss: 0.1937 - accuracy: 0.9265\n",
            "Epoch 16/50\n",
            "1875/1875 [==============================] - 5s 2ms/step - loss: 0.1887 - accuracy: 0.9277\n",
            "Epoch 17/50\n",
            "1875/1875 [==============================] - 4s 2ms/step - loss: 0.1816 - accuracy: 0.9314\n",
            "Epoch 18/50\n",
            "1875/1875 [==============================] - 5s 2ms/step - loss: 0.1775 - accuracy: 0.9326\n",
            "Epoch 19/50\n",
            "1875/1875 [==============================] - 5s 2ms/step - loss: 0.1717 - accuracy: 0.9346\n",
            "Epoch 20/50\n",
            "1875/1875 [==============================] - 5s 2ms/step - loss: 0.1683 - accuracy: 0.9360\n",
            "Epoch 21/50\n",
            "1875/1875 [==============================] - 4s 2ms/step - loss: 0.1630 - accuracy: 0.9377\n",
            "Epoch 22/50\n",
            "1875/1875 [==============================] - 4s 2ms/step - loss: 0.1589 - accuracy: 0.9388\n",
            "Epoch 23/50\n",
            "1875/1875 [==============================] - 5s 2ms/step - loss: 0.1557 - accuracy: 0.9403\n",
            "Epoch 24/50\n",
            "1875/1875 [==============================] - 5s 2ms/step - loss: 0.1504 - accuracy: 0.9425\n",
            "Epoch 25/50\n",
            "1875/1875 [==============================] - 5s 2ms/step - loss: 0.1475 - accuracy: 0.9443\n",
            "Epoch 26/50\n",
            "1875/1875 [==============================] - 5s 2ms/step - loss: 0.1438 - accuracy: 0.9449\n",
            "Epoch 27/50\n",
            "1875/1875 [==============================] - 5s 2ms/step - loss: 0.1405 - accuracy: 0.9460\n",
            "Epoch 28/50\n",
            "1875/1875 [==============================] - 5s 2ms/step - loss: 0.1370 - accuracy: 0.9475\n",
            "Epoch 29/50\n",
            "1875/1875 [==============================] - 5s 2ms/step - loss: 0.1365 - accuracy: 0.9477\n",
            "Epoch 30/50\n",
            "1875/1875 [==============================] - 4s 2ms/step - loss: 0.1315 - accuracy: 0.9490\n",
            "Epoch 31/50\n",
            "1875/1875 [==============================] - 5s 2ms/step - loss: 0.1300 - accuracy: 0.9499\n",
            "Epoch 32/50\n",
            "1875/1875 [==============================] - 5s 2ms/step - loss: 0.1295 - accuracy: 0.9506\n",
            "Epoch 33/50\n",
            "1875/1875 [==============================] - 5s 2ms/step - loss: 0.1232 - accuracy: 0.9535\n",
            "Epoch 34/50\n",
            "1875/1875 [==============================] - 4s 2ms/step - loss: 0.1205 - accuracy: 0.9535\n",
            "Epoch 35/50\n",
            "1875/1875 [==============================] - 5s 2ms/step - loss: 0.1212 - accuracy: 0.9538\n",
            "Epoch 36/50\n",
            "1875/1875 [==============================] - 5s 2ms/step - loss: 0.1166 - accuracy: 0.9553\n",
            "Epoch 37/50\n",
            "1875/1875 [==============================] - 5s 2ms/step - loss: 0.1168 - accuracy: 0.9547\n",
            "Epoch 38/50\n",
            "1875/1875 [==============================] - 5s 2ms/step - loss: 0.1115 - accuracy: 0.9572\n",
            "Epoch 39/50\n",
            "1875/1875 [==============================] - 5s 2ms/step - loss: 0.1126 - accuracy: 0.9570\n",
            "Epoch 40/50\n",
            "1875/1875 [==============================] - 4s 2ms/step - loss: 0.1083 - accuracy: 0.9585\n",
            "Epoch 41/50\n",
            "1875/1875 [==============================] - 5s 2ms/step - loss: 0.1041 - accuracy: 0.9614\n",
            "Epoch 42/50\n",
            "1875/1875 [==============================] - 5s 2ms/step - loss: 0.1047 - accuracy: 0.9596\n",
            "Epoch 43/50\n",
            "1875/1875 [==============================] - 5s 2ms/step - loss: 0.1014 - accuracy: 0.9610\n",
            "Epoch 44/50\n",
            "1875/1875 [==============================] - 5s 2ms/step - loss: 0.1009 - accuracy: 0.9620\n",
            "Epoch 45/50\n",
            "1875/1875 [==============================] - 4s 2ms/step - loss: 0.0974 - accuracy: 0.9627\n",
            "Epoch 46/50\n",
            "1875/1875 [==============================] - 5s 2ms/step - loss: 0.0984 - accuracy: 0.9617\n",
            "Epoch 47/50\n",
            "1875/1875 [==============================] - 5s 2ms/step - loss: 0.0966 - accuracy: 0.9635\n",
            "Epoch 48/50\n",
            "1875/1875 [==============================] - 5s 2ms/step - loss: 0.0958 - accuracy: 0.9635\n",
            "Epoch 49/50\n",
            "1875/1875 [==============================] - 5s 2ms/step - loss: 0.0937 - accuracy: 0.9647\n",
            "Epoch 50/50\n",
            "1875/1875 [==============================] - 5s 2ms/step - loss: 0.0906 - accuracy: 0.9660\n"
          ]
        },
        {
          "output_type": "execute_result",
          "data": {
            "text/plain": [
              "<keras.callbacks.History at 0x7f4b495e3590>"
            ]
          },
          "metadata": {},
          "execution_count": 48
        }
      ]
    },
    {
      "cell_type": "markdown",
      "metadata": {
        "id": "cH9mfZMTN8_H"
      },
      "source": [
        "### Evaluación del modelo"
      ]
    },
    {
      "cell_type": "code",
      "metadata": {
        "id": "rHCV5BrAN-pq",
        "colab": {
          "base_uri": "https://localhost:8080/"
        },
        "outputId": "9100070b-0ca9-4647-8f39-c28d47a29691"
      },
      "source": [
        "model.evaluate(test_images, test_labels)"
      ],
      "execution_count": 49,
      "outputs": [
        {
          "output_type": "stream",
          "name": "stdout",
          "text": [
            "313/313 [==============================] - 1s 2ms/step - loss: 0.5891 - accuracy: 0.8938\n"
          ]
        },
        {
          "output_type": "execute_result",
          "data": {
            "text/plain": [
              "[0.5891492366790771, 0.8938000202178955]"
            ]
          },
          "metadata": {},
          "execution_count": 49
        }
      ]
    },
    {
      "cell_type": "markdown",
      "metadata": {
        "id": "w-hQX4NNOd_D"
      },
      "source": [
        "### Predicción\n"
      ]
    },
    {
      "cell_type": "code",
      "metadata": {
        "id": "GaDFuXyROfZY",
        "colab": {
          "base_uri": "https://localhost:8080/",
          "height": 282
        },
        "outputId": "4d44d879-931f-49f3-f272-8abdb1dfb6a4"
      },
      "source": [
        "import random\n",
        "\n",
        "test_index = random.randint(0, 10000 - 1)\n",
        "\n",
        "plt.imshow(test_images[test_index], cmap='inferno')\n",
        "plt.axis(False)\n",
        "\n",
        "print(\"Label:\", test_labels[test_index])\n",
        "input_image = np.reshape(test_images[test_index], (1, 784))\n",
        "prediction = model.predict(np.expand_dims(input_image, axis=-1))\n",
        "print(\"Prediction:\", np.argmax(prediction))"
      ],
      "execution_count": 20,
      "outputs": [
        {
          "output_type": "stream",
          "name": "stdout",
          "text": [
            "Label: 5\n",
            "Prediction: 5\n"
          ]
        },
        {
          "output_type": "display_data",
          "data": {
            "image/png": "[encoded data removed]",
            "text/plain": [
              "<Figure size 432x288 with 1 Axes>"
            ]
          },
          "metadata": {
            "needs_background": "light"
          }
        }
      ]
    },
    {
      "cell_type": "code",
      "metadata": {
        "colab": {
          "base_uri": "https://localhost:8080/"
        },
        "id": "RHA0nk24QEVz",
        "outputId": "6a5effbc-ba7b-4858-f77f-6cc850002c58"
      },
      "source": [
        "prediction"
      ],
      "execution_count": 21,
      "outputs": [
        {
          "output_type": "execute_result",
          "data": {
            "text/plain": [
              "array([[9.4900628e-13, 3.2982020e-17, 1.5081195e-12, 1.3296705e-15, 7.5851998e-12, 1.0000000e+00, 6.7623201e-14, 5.9276223e-11, 5.4334256e-11, 1.8297800e-13]], dtype=float32)"
            ]
          },
          "metadata": {},
          "execution_count": 21
        }
      ]
    },
    {
      "cell_type": "code",
      "metadata": {
        "id": "cfzF78SN5gvJ"
      },
      "source": [
        ""
      ],
      "execution_count": null,
      "outputs": []
    }
  ]
}